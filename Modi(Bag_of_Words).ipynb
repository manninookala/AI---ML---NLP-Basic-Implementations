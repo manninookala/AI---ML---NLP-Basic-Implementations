{
 "cells": [
  {
   "cell_type": "code",
   "execution_count": null,
   "metadata": {},
   "outputs": [],
   "source": [
    "!pip install nltk\n"
   ]
  },
  {
   "cell_type": "code",
   "execution_count": null,
   "metadata": {},
   "outputs": [],
   "source": [
    "paragraph = \"\"\"\n",
    "Modi was born and raised in Vadnagar in northeastern Gujarat, where he completed his secondary education. He was introduced to the RSS at the age of eight. His account of helping his father sell tea at the Vadnagar railway station has not been reliably corroborated. At age 18, he was married to Jashodaben Modi, whom he abandoned soon after, only publicly acknowledging her four decades later when legally required to do so. Modi became a full-time worker for the RSS in Gujarat in 1971. The RSS assigned him to the BJP in 1985 and he held several positions within the party hierarchy until 2001, rising to the rank of general secretary.[c]\n",
    "In 2001, Modi was appointed Chief Minister of Gujarat and elected to the legislative assembly soon after. His administration is considered complicit in the 2002 Gujarat riots,[d] and has been criticised for its management of the crisis. A little over 1,000 people were killed, according to official records, three-quarters of whom were Muslim; independent sources estimated 2,000 deaths, mostly Muslim.[11] A Special Investigation Team appointed by the Supreme Court of India in 2012 found no evidence to initiate prosecution proceedings against him.[e] While his policies as chief minister, which were credited for encouraging economic growth, were praised, Modi's administration was criticised for failing to significantly improve health, poverty and education indices in the state.[f] In the 2014 Indian general election, Modi led the BJP to a parliamentary majority, the first for a party since 1984. His administration increased direct foreign investment, and it reduced spending on healthcare, education, and social-welfare programmes. Modi began a high-profile sanitation campaign, controversially initiated the 2016 demonetisation of high-denomination banknotes and introduced the Goods and Services Tax, and weakened or abolished environmental and labour laws.\n",
    "\"\"\""
   ]
  },
  {
   "cell_type": "code",
   "execution_count": null,
   "metadata": {},
   "outputs": [],
   "source": [
    "paragraph"
   ]
  },
  {
   "cell_type": "code",
   "execution_count": null,
   "metadata": {},
   "outputs": [],
   "source": [
    "import nltk\n",
    "from nltk.stem import PorterStemmer\n",
    "from nltk.corpus import stopwords"
   ]
  },
  {
   "cell_type": "code",
   "execution_count": null,
   "metadata": {},
   "outputs": [],
   "source": [
    "## Tokenize --> Paragragh - Sentences - Words\n",
    "nltk.download('punkt')\n",
    "sentences = nltk.sent_tokenize(paragraph)"
   ]
  },
  {
   "cell_type": "code",
   "execution_count": null,
   "metadata": {},
   "outputs": [],
   "source": [
    "type(sentences)"
   ]
  },
  {
   "cell_type": "code",
   "execution_count": null,
   "metadata": {},
   "outputs": [],
   "source": [
    "sentences[3]"
   ]
  },
  {
   "cell_type": "code",
   "execution_count": null,
   "metadata": {},
   "outputs": [],
   "source": [
    "stemmer = PorterStemmer()\n",
    "stemmer.stem('finally')"
   ]
  },
  {
   "cell_type": "code",
   "execution_count": null,
   "metadata": {},
   "outputs": [],
   "source": [
    "nltk.download('wordnet')\n",
    "from nltk.stem import WordNetLemmatizer\n"
   ]
  },
  {
   "cell_type": "code",
   "execution_count": null,
   "metadata": {},
   "outputs": [],
   "source": [
    "lemmatizer = WordNetLemmatizer()\n",
    "lemmatizer.lemmatize('geese')"
   ]
  },
  {
   "cell_type": "code",
   "execution_count": null,
   "metadata": {},
   "outputs": [],
   "source": [
    "import re\n",
    "len(sentences)"
   ]
  },
  {
   "cell_type": "code",
   "execution_count": null,
   "metadata": {},
   "outputs": [],
   "source": [
    "corpus = []\n",
    "for i in range(len(sentences)):\n",
    "    review = re.sub('[^a-zA-z]',' ',sentences[i])\n",
    "    review.lower()\n",
    "    corpus.append(review)"
   ]
  },
  {
   "cell_type": "code",
   "execution_count": null,
   "metadata": {},
   "outputs": [],
   "source": [
    "corpus"
   ]
  },
  {
   "cell_type": "code",
   "execution_count": null,
   "metadata": {},
   "outputs": [],
   "source": [
    "nltk.download('stopwords')"
   ]
  },
  {
   "cell_type": "code",
   "execution_count": null,
   "metadata": {},
   "outputs": [],
   "source": [
    "stopwords.words('english')"
   ]
  },
  {
   "cell_type": "code",
   "execution_count": null,
   "metadata": {},
   "outputs": [],
   "source": [
    "## Stemming :\n",
    " \n",
    "for i in corpus:\n",
    "    words = nltk.word_tokenize(i)\n",
    "    for word in words:\n",
    "        if word not in set(stopwords.words('english')):\n",
    "            print(stemmer.stem(word))\n",
    "        "
   ]
  },
  {
   "cell_type": "code",
   "execution_count": null,
   "metadata": {},
   "outputs": [],
   "source": [
    "## Lemmatization :\n",
    " \n",
    "for i in corpus:\n",
    "    words = nltk.word_tokenize(i)\n",
    "    for word in words:\n",
    "        if word not in set(stopwords.words('english')):\n",
    "            print(lemmatizer.lemmatize(word))"
   ]
  },
  {
   "cell_type": "code",
   "execution_count": null,
   "metadata": {},
   "outputs": [],
   "source": [
    "%pip install scikit-learn"
   ]
  },
  {
   "cell_type": "code",
   "execution_count": null,
   "metadata": {},
   "outputs": [],
   "source": [
    "corpus = []\n",
    "for i in range(len(sentences)):\n",
    "    review = re.sub('[^a-zA-z]',' ',sentences[i])\n",
    "    review = review.lower()\n",
    "    review = review.split()\n",
    "    review = [lemmatizer.lemmatize(word) for word in review if not word in stopwords.words('english')]\n",
    "    review = ' '.join(review)\n",
    "    corpus.append(review)"
   ]
  },
  {
   "cell_type": "code",
   "execution_count": null,
   "metadata": {},
   "outputs": [],
   "source": [
    "corpus"
   ]
  },
  {
   "cell_type": "code",
   "execution_count": 32,
   "metadata": {},
   "outputs": [],
   "source": [
    "## Bag of Words\n",
    "from sklearn.feature_extraction.text import CountVectorizer\n",
    "cv = CountVectorizer(binary=True, ngram_range=(2,3))"
   ]
  },
  {
   "cell_type": "code",
   "execution_count": 34,
   "metadata": {},
   "outputs": [],
   "source": [
    "X = cv.fit_transform(corpus)\n"
   ]
  },
  {
   "cell_type": "code",
   "execution_count": 35,
   "metadata": {},
   "outputs": [
    {
     "data": {
      "text/plain": [
       "{'modi born': 184,\n",
       " 'born raised': 36,\n",
       " 'raised vadnagar': 219,\n",
       " 'vadnagar northeastern': 267,\n",
       " 'northeastern gujarat': 191,\n",
       " 'gujarat completed': 108,\n",
       " 'completed secondary': 43,\n",
       " 'secondary education': 234,\n",
       " 'modi born raised': 185,\n",
       " 'born raised vadnagar': 37,\n",
       " 'raised vadnagar northeastern': 220,\n",
       " 'vadnagar northeastern gujarat': 268,\n",
       " 'northeastern gujarat completed': 192,\n",
       " 'gujarat completed secondary': 109,\n",
       " 'completed secondary education': 44,\n",
       " 'introduced age': 143,\n",
       " 'age eight': 16,\n",
       " 'introduced age eight': 144,\n",
       " 'account helping': 6,\n",
       " 'helping father': 120,\n",
       " 'father sell': 89,\n",
       " 'sell tea': 235,\n",
       " 'tea vadnagar': 259,\n",
       " 'vadnagar railway': 269,\n",
       " 'railway station': 217,\n",
       " 'station reliably': 253,\n",
       " 'reliably corroborated': 227,\n",
       " 'account helping father': 7,\n",
       " 'helping father sell': 121,\n",
       " 'father sell tea': 90,\n",
       " 'sell tea vadnagar': 236,\n",
       " 'tea vadnagar railway': 260,\n",
       " 'vadnagar railway station': 270,\n",
       " 'railway station reliably': 218,\n",
       " 'station reliably corroborated': 254,\n",
       " 'age married': 17,\n",
       " 'married jashodaben': 168,\n",
       " 'jashodaben modi': 151,\n",
       " 'modi abandoned': 174,\n",
       " 'abandoned soon': 0,\n",
       " 'soon publicly': 245,\n",
       " 'publicly acknowledging': 213,\n",
       " 'acknowledging four': 8,\n",
       " 'four decade': 97,\n",
       " 'decade later': 61,\n",
       " 'later legally': 156,\n",
       " 'legally required': 160,\n",
       " 'age married jashodaben': 18,\n",
       " 'married jashodaben modi': 169,\n",
       " 'jashodaben modi abandoned': 152,\n",
       " 'modi abandoned soon': 175,\n",
       " 'abandoned soon publicly': 1,\n",
       " 'soon publicly acknowledging': 246,\n",
       " 'publicly acknowledging four': 214,\n",
       " 'acknowledging four decade': 9,\n",
       " 'four decade later': 98,\n",
       " 'decade later legally': 62,\n",
       " 'later legally required': 157,\n",
       " 'modi became': 180,\n",
       " 'became full': 28,\n",
       " 'full time': 99,\n",
       " 'time worker': 265,\n",
       " 'worker gujarat': 276,\n",
       " 'modi became full': 181,\n",
       " 'became full time': 29,\n",
       " 'full time worker': 100,\n",
       " 'time worker gujarat': 266,\n",
       " 'assigned bjp': 24,\n",
       " 'bjp held': 32,\n",
       " 'held several': 118,\n",
       " 'several position': 239,\n",
       " 'position within': 204,\n",
       " 'within party': 274,\n",
       " 'party hierarchy': 197,\n",
       " 'hierarchy rising': 122,\n",
       " 'rising rank': 230,\n",
       " 'rank general': 221,\n",
       " 'general secretary': 103,\n",
       " 'assigned bjp held': 25,\n",
       " 'bjp held several': 33,\n",
       " 'held several position': 119,\n",
       " 'several position within': 240,\n",
       " 'position within party': 205,\n",
       " 'within party hierarchy': 275,\n",
       " 'party hierarchy rising': 198,\n",
       " 'hierarchy rising rank': 123,\n",
       " 'rising rank general': 231,\n",
       " 'rank general secretary': 222,\n",
       " 'modi appointed': 178,\n",
       " 'appointed chief': 19,\n",
       " 'chief minister': 40,\n",
       " 'minister gujarat': 172,\n",
       " 'gujarat elected': 110,\n",
       " 'elected legislative': 75,\n",
       " 'legislative assembly': 161,\n",
       " 'assembly soon': 23,\n",
       " 'modi appointed chief': 179,\n",
       " 'appointed chief minister': 20,\n",
       " 'chief minister gujarat': 42,\n",
       " 'minister gujarat elected': 173,\n",
       " 'gujarat elected legislative': 111,\n",
       " 'elected legislative assembly': 76,\n",
       " 'legislative assembly soon': 162,\n",
       " 'administration considered': 10,\n",
       " 'considered complicit': 47,\n",
       " 'complicit gujarat': 45,\n",
       " 'gujarat riot': 112,\n",
       " 'riot criticised': 228,\n",
       " 'criticised management': 57,\n",
       " 'management crisis': 167,\n",
       " 'administration considered complicit': 11,\n",
       " 'considered complicit gujarat': 48,\n",
       " 'complicit gujarat riot': 46,\n",
       " 'gujarat riot criticised': 113,\n",
       " 'riot criticised management': 229,\n",
       " 'criticised management crisis': 58,\n",
       " 'little people': 163,\n",
       " 'people killed': 200,\n",
       " 'killed according': 153,\n",
       " 'according official': 4,\n",
       " 'official record': 193,\n",
       " 'record three': 223,\n",
       " 'three quarter': 263,\n",
       " 'quarter muslim': 215,\n",
       " 'muslim independent': 189,\n",
       " 'independent source': 132,\n",
       " 'source estimated': 247,\n",
       " 'estimated death': 83,\n",
       " 'death mostly': 59,\n",
       " 'mostly muslim': 188,\n",
       " 'little people killed': 164,\n",
       " 'people killed according': 201,\n",
       " 'killed according official': 154,\n",
       " 'according official record': 5,\n",
       " 'official record three': 194,\n",
       " 'record three quarter': 224,\n",
       " 'three quarter muslim': 264,\n",
       " 'quarter muslim independent': 216,\n",
       " 'muslim independent source': 190,\n",
       " 'independent source estimated': 133,\n",
       " 'source estimated death': 248,\n",
       " 'estimated death mostly': 84,\n",
       " 'death mostly muslim': 60,\n",
       " 'special investigation': 249,\n",
       " 'investigation team': 147,\n",
       " 'team appointed': 261,\n",
       " 'appointed supreme': 21,\n",
       " 'supreme court': 255,\n",
       " 'court india': 51,\n",
       " 'india found': 135,\n",
       " 'found evidence': 95,\n",
       " 'evidence initiate': 85,\n",
       " 'initiate prosecution': 139,\n",
       " 'prosecution proceeding': 212,\n",
       " 'special investigation team': 250,\n",
       " 'investigation team appointed': 148,\n",
       " 'team appointed supreme': 262,\n",
       " 'appointed supreme court': 22,\n",
       " 'supreme court india': 256,\n",
       " 'court india found': 52,\n",
       " 'india found evidence': 136,\n",
       " 'found evidence initiate': 96,\n",
       " 'evidence initiate prosecution': 86,\n",
       " 'initiate prosecution proceeding': 140,\n",
       " 'policy chief': 202,\n",
       " 'minister credited': 170,\n",
       " 'credited encouraging': 53,\n",
       " 'encouraging economic': 79,\n",
       " 'economic growth': 69,\n",
       " 'growth praised': 106,\n",
       " 'praised modi': 208,\n",
       " 'modi administration': 176,\n",
       " 'administration criticised': 12,\n",
       " 'criticised failing': 55,\n",
       " 'failing significantly': 87,\n",
       " 'significantly improve': 241,\n",
       " 'improve health': 128,\n",
       " 'health poverty': 114,\n",
       " 'poverty education': 206,\n",
       " 'education index': 71,\n",
       " 'index state': 134,\n",
       " 'policy chief minister': 203,\n",
       " 'chief minister credited': 41,\n",
       " 'minister credited encouraging': 171,\n",
       " 'credited encouraging economic': 54,\n",
       " 'encouraging economic growth': 80,\n",
       " 'economic growth praised': 70,\n",
       " 'growth praised modi': 107,\n",
       " 'praised modi administration': 209,\n",
       " 'modi administration criticised': 177,\n",
       " 'administration criticised failing': 13,\n",
       " 'criticised failing significantly': 56,\n",
       " 'failing significantly improve': 88,\n",
       " 'significantly improve health': 242,\n",
       " 'improve health poverty': 129,\n",
       " 'health poverty education': 115,\n",
       " 'poverty education index': 207,\n",
       " 'education index state': 72,\n",
       " 'indian general': 137,\n",
       " 'general election': 101,\n",
       " 'election modi': 77,\n",
       " 'modi led': 186,\n",
       " 'led bjp': 158,\n",
       " 'bjp parliamentary': 34,\n",
       " 'parliamentary majority': 195,\n",
       " 'majority first': 165,\n",
       " 'first party': 91,\n",
       " 'party since': 199,\n",
       " 'indian general election': 138,\n",
       " 'general election modi': 102,\n",
       " 'election modi led': 78,\n",
       " 'modi led bjp': 187,\n",
       " 'led bjp parliamentary': 159,\n",
       " 'bjp parliamentary majority': 35,\n",
       " 'parliamentary majority first': 196,\n",
       " 'majority first party': 166,\n",
       " 'first party since': 92,\n",
       " 'administration increased': 14,\n",
       " 'increased direct': 130,\n",
       " 'direct foreign': 67,\n",
       " 'foreign investment': 93,\n",
       " 'investment reduced': 149,\n",
       " 'reduced spending': 225,\n",
       " 'spending healthcare': 251,\n",
       " 'healthcare education': 116,\n",
       " 'education social': 73,\n",
       " 'social welfare': 243,\n",
       " 'welfare programme': 273,\n",
       " 'administration increased direct': 15,\n",
       " 'increased direct foreign': 131,\n",
       " 'direct foreign investment': 68,\n",
       " 'foreign investment reduced': 94,\n",
       " 'investment reduced spending': 150,\n",
       " 'reduced spending healthcare': 226,\n",
       " 'spending healthcare education': 252,\n",
       " 'healthcare education social': 117,\n",
       " 'education social welfare': 74,\n",
       " 'social welfare programme': 244,\n",
       " 'modi began': 182,\n",
       " 'began high': 30,\n",
       " 'high profile': 126,\n",
       " 'profile sanitation': 210,\n",
       " 'sanitation campaign': 232,\n",
       " 'campaign controversially': 38,\n",
       " 'controversially initiated': 49,\n",
       " 'initiated demonetisation': 141,\n",
       " 'demonetisation high': 63,\n",
       " 'high denomination': 124,\n",
       " 'denomination banknote': 65,\n",
       " 'banknote introduced': 26,\n",
       " 'introduced good': 145,\n",
       " 'good service': 104,\n",
       " 'service tax': 237,\n",
       " 'tax weakened': 257,\n",
       " 'weakened abolished': 271,\n",
       " 'abolished environmental': 2,\n",
       " 'environmental labour': 81,\n",
       " 'labour law': 155,\n",
       " 'modi began high': 183,\n",
       " 'began high profile': 31,\n",
       " 'high profile sanitation': 127,\n",
       " 'profile sanitation campaign': 211,\n",
       " 'sanitation campaign controversially': 233,\n",
       " 'campaign controversially initiated': 39,\n",
       " 'controversially initiated demonetisation': 50,\n",
       " 'initiated demonetisation high': 142,\n",
       " 'demonetisation high denomination': 64,\n",
       " 'high denomination banknote': 125,\n",
       " 'denomination banknote introduced': 66,\n",
       " 'banknote introduced good': 27,\n",
       " 'introduced good service': 146,\n",
       " 'good service tax': 105,\n",
       " 'service tax weakened': 238,\n",
       " 'tax weakened abolished': 258,\n",
       " 'weakened abolished environmental': 272,\n",
       " 'abolished environmental labour': 3,\n",
       " 'environmental labour law': 82}"
      ]
     },
     "execution_count": 35,
     "metadata": {},
     "output_type": "execute_result"
    }
   ],
   "source": [
    "cv.vocabulary_"
   ]
  },
  {
   "cell_type": "code",
   "execution_count": 36,
   "metadata": {},
   "outputs": [
    {
     "data": {
      "text/plain": [
       "'modi born raised vadnagar northeastern gujarat completed secondary education'"
      ]
     },
     "execution_count": 36,
     "metadata": {},
     "output_type": "execute_result"
    }
   ],
   "source": [
    "corpus[0]"
   ]
  },
  {
   "cell_type": "code",
   "execution_count": 37,
   "metadata": {},
   "outputs": [
    {
     "data": {
      "text/plain": [
       "array([[0, 0, 0, 0, 0, 0, 0, 0, 0, 0, 0, 0, 0, 0, 0, 0, 0, 0, 0, 0, 0, 0,\n",
       "        0, 0, 0, 0, 0, 0, 0, 0, 0, 0, 0, 0, 0, 0, 1, 1, 0, 0, 0, 0, 0, 1,\n",
       "        1, 0, 0, 0, 0, 0, 0, 0, 0, 0, 0, 0, 0, 0, 0, 0, 0, 0, 0, 0, 0, 0,\n",
       "        0, 0, 0, 0, 0, 0, 0, 0, 0, 0, 0, 0, 0, 0, 0, 0, 0, 0, 0, 0, 0, 0,\n",
       "        0, 0, 0, 0, 0, 0, 0, 0, 0, 0, 0, 0, 0, 0, 0, 0, 0, 0, 0, 0, 1, 1,\n",
       "        0, 0, 0, 0, 0, 0, 0, 0, 0, 0, 0, 0, 0, 0, 0, 0, 0, 0, 0, 0, 0, 0,\n",
       "        0, 0, 0, 0, 0, 0, 0, 0, 0, 0, 0, 0, 0, 0, 0, 0, 0, 0, 0, 0, 0, 0,\n",
       "        0, 0, 0, 0, 0, 0, 0, 0, 0, 0, 0, 0, 0, 0, 0, 0, 0, 0, 0, 0, 0, 0,\n",
       "        0, 0, 0, 0, 0, 0, 0, 0, 1, 1, 0, 0, 0, 0, 0, 1, 1, 0, 0, 0, 0, 0,\n",
       "        0, 0, 0, 0, 0, 0, 0, 0, 0, 0, 0, 0, 0, 0, 0, 0, 0, 0, 0, 0, 0, 1,\n",
       "        1, 0, 0, 0, 0, 0, 0, 0, 0, 0, 0, 0, 0, 0, 1, 0, 0, 0, 0, 0, 0, 0,\n",
       "        0, 0, 0, 0, 0, 0, 0, 0, 0, 0, 0, 0, 0, 0, 0, 0, 0, 0, 0, 0, 0, 0,\n",
       "        0, 0, 0, 1, 1, 0, 0, 0, 0, 0, 0, 0, 0]], dtype=int64)"
      ]
     },
     "execution_count": 37,
     "metadata": {},
     "output_type": "execute_result"
    }
   ],
   "source": [
    "X[0].toarray()"
   ]
  },
  {
   "cell_type": "code",
   "execution_count": 41,
   "metadata": {},
   "outputs": [],
   "source": [
    "## TF-IDF\n",
    "from sklearn.feature_extraction.text import TfidfVectorizer\n",
    "cv = TfidfVectorizer(max_features=7)"
   ]
  },
  {
   "cell_type": "code",
   "execution_count": 42,
   "metadata": {},
   "outputs": [
    {
     "data": {
      "text/plain": [
       "'modi born raised vadnagar northeastern gujarat completed secondary education'"
      ]
     },
     "execution_count": 42,
     "metadata": {},
     "output_type": "execute_result"
    }
   ],
   "source": [
    "X = cv.fit_transform(corpus)\n",
    "corpus[0]"
   ]
  },
  {
   "cell_type": "code",
   "execution_count": 43,
   "metadata": {},
   "outputs": [
    {
     "data": {
      "text/plain": [
       "array([[0.        , 0.65808597, 0.59483744, 0.        , 0.        ,\n",
       "        0.4616181 , 0.        ]])"
      ]
     },
     "execution_count": 43,
     "metadata": {},
     "output_type": "execute_result"
    }
   ],
   "source": [
    "X[0].toarray()"
   ]
  },
  {
   "cell_type": "code",
   "execution_count": null,
   "metadata": {},
   "outputs": [],
   "source": []
  }
 ],
 "metadata": {
  "kernelspec": {
   "display_name": "Python 3",
   "language": "python",
   "name": "python3"
  },
  "language_info": {
   "codemirror_mode": {
    "name": "ipython",
    "version": 3
   },
   "file_extension": ".py",
   "mimetype": "text/x-python",
   "name": "python",
   "nbconvert_exporter": "python",
   "pygments_lexer": "ipython3",
   "version": "3.12.3"
  }
 },
 "nbformat": 4,
 "nbformat_minor": 2
}
